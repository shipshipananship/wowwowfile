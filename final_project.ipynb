{
 "cells": [
  {
   "cell_type": "markdown",
   "id": "mobile-johns",
   "metadata": {},
   "source": [
    "# Load Packages"
   ]
  },
  {
   "cell_type": "code",
   "execution_count": null,
   "id": "cosmetic-bolivia",
   "metadata": {},
   "outputs": [],
   "source": [
    "import os\n",
    "\n",
    "import sklearn.datasets\n",
    "import sklearn.linear_model\n",
    "import sklearn.svm\n",
    "import sklearn.tree\n",
    "import sklearn.ensemble\n",
    "import sklearn.model_selection\n",
    "import sklearn.metrics\n",
    "\n",
    "import skimage.io\n",
    "import skimage.transform\n",
    "import skimage.color\n",
    "\n",
    "import numpy as np\n",
    "\n",
    "import matplotlib.pyplot as plt \n",
    "%matplotlib inline"
   ]
  },
  {
   "cell_type": "markdown",
   "id": "modern-columbia",
   "metadata": {},
   "source": [
    "# Load Additional Packages (if you want to use other modules in Scikit Learn)"
   ]
  },
  {
   "cell_type": "code",
   "execution_count": null,
   "id": "racial-growing",
   "metadata": {},
   "outputs": [],
   "source": [
    "from sklearn.pipeline import Pipeline\n",
    "from sklearn.decomposition import PCA\n",
    "from sklearn.preprocessing import Normalizer\n",
    "from sklearn.preprocessing import MaxAbsScaler\n",
    "from sklearn.svm import SVC\n",
    "from sklearn.ensemble import RandomForestClassifier\n",
    "from sklearn.neighbors import KNeighborsClassifier\n",
    "from sklearn.ensemble import VotingClassifier\n",
    "import pickle"
   ]
  },
  {
   "cell_type": "markdown",
   "id": "immediate-briefs",
   "metadata": {},
   "source": [
    "# Load Data Points (Do not modify the following block)"
   ]
  },
  {
   "cell_type": "code",
   "execution_count": null,
   "id": "surgical-background",
   "metadata": {
    "scrolled": false
   },
   "outputs": [],
   "source": [
    "#load trian data\n",
    "image_size = 58\n",
    "labels = ['glioma_tumor','meningioma_tumor','no_tumor','pituitary_tumor']\n",
    "\n",
    "images = []\n",
    "y = []\n",
    "for i in labels:\n",
    "    folderPath = os.path.join('./tumor_dataset/Training',i)\n",
    "    for j in os.listdir(folderPath):\n",
    "        img = skimage.io.imread(os.path.join(folderPath,j),)\n",
    "        img = skimage.transform.resize(img,(image_size,image_size))\n",
    "        img = skimage.color.rgb2gray(img)\n",
    "        images.append(img)\n",
    "        y.append(i)\n",
    "        \n",
    "images = np.array(images)\n",
    "\n",
    "X = images.reshape((-1, image_size**2))\n",
    "y = np.array(y)"
   ]
  },
  {
   "cell_type": "code",
   "execution_count": null,
   "id": "9e40152d",
   "metadata": {},
   "outputs": [],
   "source": [
    "#load test data\n",
    "image_size = 58\n",
    "labels = ['glioma_tumor','meningioma_tumor','no_tumor','pituitary_tumor']\n",
    "\n",
    "images1 = []\n",
    "y1 = []\n",
    "for i in labels:\n",
    "    folderPath = os.path.join('./tumor_dataset/Testing',i)\n",
    "    for j in os.listdir(folderPath):\n",
    "        img1 = skimage.io.imread(os.path.join(folderPath,j),)\n",
    "        img1 = skimage.transform.resize(img1,(image_size,image_size))\n",
    "        img1 = skimage.color.rgb2gray(img1)\n",
    "        images1.append(img1)\n",
    "        y1.append(i)\n",
    "        \n",
    "images1 = np.array(images1)\n",
    "\n",
    "X_t = images1.reshape((-1, image_size**2))\n",
    "y_t = np.array(y1)"
   ]
  },
  {
   "cell_type": "code",
   "execution_count": null,
   "id": "5ff63d2b",
   "metadata": {
    "scrolled": false
   },
   "outputs": [],
   "source": [
    "j = 0\n",
    "for i in range(len(y)):\n",
    "    if y[i] in labels[j]:\n",
    "        plt.imshow(images[i])\n",
    "        plt.title(\"[Index:{}] Label:{}\".format(i, y[i]))\n",
    "        plt.show()\n",
    "        j += 1\n",
    "    if j >= len(labels):\n",
    "        break"
   ]
  },
  {
   "cell_type": "markdown",
   "id": "isolated-airfare",
   "metadata": {},
   "source": [
    "# Classification with Scikit Learn Library (Programming Assignment)\n",
    "### Variable Explanation (Do not change variable names)\n",
    "- 'X_train' is feature vectors of training dataset\n",
    "- 'y_train' is target labels of training dataset\n",
    "- 'X_test' is feature vectors of test dataset\n",
    "- 'y_test' is target labels of test dataset\n",
    "- 'y_pred' was initialized as zero vectors and fill 'y_pred' with predicted labels\n",
    "\n",
    "### Find the best model and hyperparameter for tumor classification\n",
    "- Find the best random seed as well and fix it to reproduce your result on other computers."
   ]
  },
  {
   "cell_type": "code",
   "execution_count": null,
   "id": "funded-playing",
   "metadata": {},
   "outputs": [],
   "source": [
    "'''\n",
    "svc = Pipeline([    \n",
    "    ('pca', PCA(n_components=800,random_state=18)), \n",
    "    ('scaler', Normalizer()),\n",
    "    ('svm',SVC(probability=True,C=150,gamma = 40,random_state=18))  \n",
    "])\n",
    "\n",
    "rf = Pipeline([\n",
    "    ('pca', PCA(n_components=800,random_state=64)),\n",
    "    ('scaler', Normalizer()),\n",
    "    ('rf', RandomForestClassifier(criterion='entropy',max_features=4,n_estimators=1000, random_state=2,n_jobs=-1))\n",
    "])\n",
    "\n",
    "knn = KNeighborsClassifier(n_neighbors=1)\n",
    "\n",
    "model = VotingClassifier(\n",
    "    estimators=[\n",
    "        ('SVC', svc),\n",
    "        ('RF',   rf),\n",
    "        ('KNN', knn),\n",
    "    ],\n",
    "    voting='hard' \n",
    ")\n",
    "\n",
    "model.fit(X, y)\n",
    "\n",
    "y_pred = model.predict(X_t)\n",
    "'''"
   ]
  },
  {
   "cell_type": "markdown",
   "id": "twenty-mistake",
   "metadata": {},
   "source": [
    "### Print accuracy (do not modify the following block)"
   ]
  },
  {
   "cell_type": "code",
   "execution_count": null,
   "id": "alien-concert",
   "metadata": {
    "scrolled": true
   },
   "outputs": [],
   "source": [
    "#  print('Accuracy: %.2f' % sklearn.metrics.accuracy_score(y_t, y_pred))"
   ]
  },
  {
   "cell_type": "markdown",
   "id": "2b4f1f4e",
   "metadata": {},
   "source": [
    "### Load  my_model"
   ]
  },
  {
   "cell_type": "code",
   "execution_count": null,
   "id": "0fbe8860",
   "metadata": {},
   "outputs": [],
   "source": [
    "with open('mymodel.pkl', 'rb') as file:\n",
    "    my_model = pickle.load(file)\n",
    "    y_pred = my_model.predict(X_t)"
   ]
  },
  {
   "cell_type": "code",
   "execution_count": null,
   "id": "0ec12964",
   "metadata": {},
   "outputs": [],
   "source": [
    "print('Accuracy: %.2f' % sklearn.metrics.accuracy_score(y_t, y_pred))"
   ]
  }
 ],
 "metadata": {
  "kernelspec": {
   "display_name": "Python 3 (ipykernel)",
   "language": "python",
   "name": "python3"
  },
  "language_info": {
   "codemirror_mode": {
    "name": "ipython",
    "version": 3
   },
   "file_extension": ".py",
   "mimetype": "text/x-python",
   "name": "python",
   "nbconvert_exporter": "python",
   "pygments_lexer": "ipython3",
   "version": "3.11.4"
  }
 },
 "nbformat": 4,
 "nbformat_minor": 5
}
